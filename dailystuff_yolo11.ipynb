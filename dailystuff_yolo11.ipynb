{
 "cells": [
  {
   "cell_type": "markdown",
   "metadata": {},
   "source": [
    "[![Roboflow Notebooks](https://media.roboflow.com/notebooks/template/bannertest2-2.png?ik-sdk-version=javascript-1.4.3&updatedAt=1672932710194)](https://github.com/roboflow/notebooks)\n",
    "\n",
    "# How to Train YOLO11 Object Detection on a Custom Dataset\n",
    "\n",
    "---\n",
    "\n",
    "[![GitHub](https://badges.aleen42.com/src/github.svg)](https://github.com/ultralytics/ultralytics)\n",
    "\n",
    "YOLO11 builds on the advancements introduced in YOLOv9 and YOLOv10 earlier this year, incorporating improved architectural designs, enhanced feature extraction techniques, and optimized training methods.\n",
    "\n",
    "YOLO11m achieves a higher mean mAP score on the COCO dataset while using 22% fewer parameters than YOLOv8m, making it computationally lighter without sacrificing performance.\n",
    "\n",
    "YOLOv11 is available in 5 different sizes, ranging from `2.6M` to `56.9M` parameters, and capable of achieving from `39.5` to `54.7` mAP on the COCO dataset."
   ]
  },
  {
   "cell_type": "markdown",
   "metadata": {},
   "source": [
    "## This is 5 Objects to Detect\n",
    " 1. Books\n",
    " 2. Plastic Glass\n",
    " 3. Highlight Pen\n",
    " 4. Scissors\n",
    " 5. Glass Water"
   ]
  },
  {
   "cell_type": "code",
   "execution_count": null,
   "metadata": {},
   "outputs": [],
   "source": [
    "from IPython.display import Image, display\n",
    "import requests\n",
    "from io import BytesIO\n",
    "\n",
    "url = \"https://scontent.fbkk29-8.fna.fbcdn.net/v/t1.15752-9/483796462_1479161786391663_5375903957201191614_n.jpg?_nc_cat=105&ccb=1-7&_nc_sid=9f807c&_nc_ohc=c3TxDCX8j5cQ7kNvgFpaPci&_nc_oc=AdkgVc1ByyREyMaK24qNvBTiIon_5uDuUEqk6kKHCqzWSpqY0afinyRh0JYmI82q0FXxeQYo_JbU4WbIIsatbOD6&_nc_zt=23&_nc_ht=scontent.fbkk29-8.fna&oh=03_Q7cD1wGi5msjRP_10tCD4Ej0n4QKCTFoNZh3e_otmh-wZlsZog&oe=68039603\"\n",
    "response = requests.get(url)\n",
    "img = Image(data=response.content)\n",
    "display(img)"
   ]
  },
  {
   "cell_type": "markdown",
   "metadata": {},
   "source": [
    "## About dataset"
   ]
  },
  {
   "cell_type": "markdown",
   "metadata": {},
   "source": [
    "We splited data into 70%train 20%valid 10%test\n",
    "เพิ่ม Outputs per training example (3 เท่า)"
   ]
  },
  {
   "cell_type": "code",
   "execution_count": null,
   "metadata": {},
   "outputs": [],
   "source": [
    "from IPython.display import Image, display\n",
    "import requests\n",
    "from io import BytesIO\n",
    "\n",
    "url = \"https://scontent.fbkk29-8.fna.fbcdn.net/v/t1.15752-9/483848195_507572995748975_7361795539398812679_n.png?_nc_cat=105&ccb=1-7&_nc_sid=9f807c&_nc_ohc=FK2vl9DJ3rwQ7kNvgHesG9Z&_nc_oc=Adn5md_x5PRoevdn-q5Ux4R3bxjp8MukQUCC_9oCFiDSe5P406oGqymI-HaL4NDwGkaFPqwJM-kdqixY7IOeaytd&_nc_zt=23&_nc_ht=scontent.fbkk29-8.fna&oh=03_Q7cD1wHrOPqWbOFDUOlXqt_sBaXLzkux-oBc5rMaYFHXlIkbbg&oe=6803A9B8\"\n",
    "response = requests.get(url)\n",
    "img = Image(data=response.content)\n",
    "display(img)"
   ]
  },
  {
   "cell_type": "markdown",
   "metadata": {},
   "source": [
    "## Setup"
   ]
  },
  {
   "cell_type": "markdown",
   "metadata": {},
   "source": [
    "### Configure API keys\n",
    "\n",
    "To fine-tune YOLO11, you need to provide your Roboflow API key. Follow these steps:\n",
    "\n",
    "- Go to your [`Roboflow Settings`](https://app.roboflow.com/settings/api) page. Click `Copy`. This will place your private key in the clipboard.\n",
    "- In Colab, go to the left pane and click on `Secrets` (🔑). Store Roboflow API Key under the name `ROBOFLOW_API_KEY`."
   ]
  },
  {
   "cell_type": "markdown",
   "metadata": {},
   "source": [
    "## Metal Performance Shaders"
   ]
  },
  {
   "cell_type": "markdown",
   "metadata": {},
   "source": [
    "Since Macbook don't support NVIDIA Graphfic I need to install MPS support\n",
    "lets PyTorch use the Apple Silicon GPU"
   ]
  },
  {
   "cell_type": "code",
   "execution_count": null,
   "metadata": {},
   "outputs": [],
   "source": [
    "%pip install torch torchvision"
   ]
  },
  {
   "cell_type": "markdown",
   "metadata": {},
   "source": [
    "# Verify MPS avalibility"
   ]
  },
  {
   "cell_type": "code",
   "execution_count": null,
   "metadata": {},
   "outputs": [],
   "source": [
    "import torch\n",
    "print(torch.backends.mps.is_available())  # Should return True"
   ]
  },
  {
   "cell_type": "markdown",
   "metadata": {},
   "source": [
    "## Install Ultralytics (YOLO)"
   ]
  },
  {
   "cell_type": "code",
   "execution_count": null,
   "metadata": {},
   "outputs": [],
   "source": [
    "%pip install ultralytics"
   ]
  },
  {
   "cell_type": "markdown",
   "metadata": {},
   "source": [
    "## Install ROBOFLOW"
   ]
  },
  {
   "cell_type": "code",
   "execution_count": null,
   "metadata": {},
   "outputs": [],
   "source": [
    "%pip install roboflow"
   ]
  },
  {
   "cell_type": "markdown",
   "metadata": {},
   "source": [
    "**NOTE:** To make it easier for us to manage datasets, images and models we create a `HOME` constant.\n"
   ]
  },
  {
   "cell_type": "code",
   "execution_count": null,
   "metadata": {},
   "outputs": [],
   "source": [
    "import os \n",
    "HOME = os.getcwd()\n",
    "print(HOME)"
   ]
  },
  {
   "cell_type": "code",
   "execution_count": null,
   "metadata": {},
   "outputs": [],
   "source": [
    "%pip install python-dotenv"
   ]
  },
  {
   "cell_type": "markdown",
   "metadata": {},
   "source": [
    "## Fine-tune YOLO11 on custom dataset"
   ]
  },
  {
   "cell_type": "markdown",
   "metadata": {},
   "source": [
    "NOTE: When training YOLOv11, make sure your data is located in datasets. If you'd like to change the default location of the data you want to use for fine-tuning, you can do so through Ultralytics' settings.json. In this tutorial, we will use one of the datasets available on Roboflow Universe. When downloading, make sure to select the yolov11 export format."
   ]
  },
  {
   "cell_type": "code",
   "execution_count": null,
   "metadata": {},
   "outputs": [
    {
     "name": "stdout",
     "output_type": "stream",
     "text": [
      "Current working directory: /Users/bam/Documents/Object Detection 🎐\n",
      "loading Roboflow workspace...\n"
     ]
    },
    {
     "ename": "RoboflowError",
     "evalue": "{\n    \"error\": {\n        \"message\": \"Unsupported get request. Workspace with ID \\\"DailyObj\\\" does not exist or cannot be loaded due to missing permissions.\",\n        \"status\": 404,\n        \"type\": \"GraphMethodException\",\n        \"hint\": \"You can see your available workspaces by issuing a GET request to /workspaces\"\n    }\n}",
     "output_type": "error",
     "traceback": [
      "\u001b[31m---------------------------------------------------------------------------\u001b[39m",
      "\u001b[31mRoboflowError\u001b[39m                             Traceback (most recent call last)",
      "\u001b[36mCell\u001b[39m\u001b[36m \u001b[39m\u001b[32mIn[8]\u001b[39m\u001b[32m, line 15\u001b[39m\n\u001b[32m     13\u001b[39m \u001b[38;5;66;03m# ใช้ API key กับ Roboflow\u001b[39;00m\n\u001b[32m     14\u001b[39m rf = Roboflow(api_key=api_key)\n\u001b[32m---> \u001b[39m\u001b[32m15\u001b[39m project = \u001b[43mrf\u001b[49m\u001b[43m.\u001b[49m\u001b[43mworkspace\u001b[49m\u001b[43m(\u001b[49m\u001b[33;43m\"\u001b[39;49m\u001b[33;43mDailyObj\u001b[39;49m\u001b[33;43m\"\u001b[39;49m\u001b[43m)\u001b[49m.project(\u001b[33m\"\u001b[39m\u001b[33mstuff-in-my-room\u001b[39m\u001b[33m\"\u001b[39m)\n\u001b[32m     16\u001b[39m dataset = project.version(\u001b[32m3\u001b[39m).download(\u001b[33m\"\u001b[39m\u001b[33myolov11\u001b[39m\u001b[33m\"\u001b[39m)\n",
      "\u001b[36mFile \u001b[39m\u001b[32m~/Documents/Object Detection 🎐/.venv/lib/python3.13/site-packages/roboflow/__init__.py:238\u001b[39m, in \u001b[36mRoboflow.workspace\u001b[39m\u001b[34m(self, the_workspace)\u001b[39m\n\u001b[32m    236\u001b[39m \u001b[38;5;28;01mif\u001b[39;00m \u001b[38;5;28mself\u001b[39m.api_key:  \u001b[38;5;66;03m# Check if api_key was passed during __init__\u001b[39;00m\n\u001b[32m    237\u001b[39m     api_key = \u001b[38;5;28mself\u001b[39m.api_key\n\u001b[32m--> \u001b[39m\u001b[32m238\u001b[39m     list_projects = \u001b[43mrfapi\u001b[49m\u001b[43m.\u001b[49m\u001b[43mget_workspace\u001b[49m\u001b[43m(\u001b[49m\u001b[43mapi_key\u001b[49m\u001b[43m,\u001b[49m\u001b[43m \u001b[49m\u001b[43mthe_workspace\u001b[49m\u001b[43m)\u001b[49m\n\u001b[32m    239\u001b[39m     \u001b[38;5;28;01mreturn\u001b[39;00m Workspace(list_projects, api_key, the_workspace, \u001b[38;5;28mself\u001b[39m.model_format)\n\u001b[32m    241\u001b[39m \u001b[38;5;28;01melif\u001b[39;00m \u001b[38;5;28mself\u001b[39m.api_key \u001b[38;5;129;01min\u001b[39;00m DEMO_KEYS:\n",
      "\u001b[36mFile \u001b[39m\u001b[32m~/Documents/Object Detection 🎐/.venv/lib/python3.13/site-packages/roboflow/adapters/rfapi.py:38\u001b[39m, in \u001b[36mget_workspace\u001b[39m\u001b[34m(api_key, workspace_url)\u001b[39m\n\u001b[32m     36\u001b[39m response = requests.get(url)\n\u001b[32m     37\u001b[39m \u001b[38;5;28;01mif\u001b[39;00m response.status_code != \u001b[32m200\u001b[39m:\n\u001b[32m---> \u001b[39m\u001b[32m38\u001b[39m     \u001b[38;5;28;01mraise\u001b[39;00m RoboflowError(response.text)\n\u001b[32m     39\u001b[39m result = response.json()\n\u001b[32m     40\u001b[39m \u001b[38;5;28;01mreturn\u001b[39;00m result\n",
      "\u001b[31mRoboflowError\u001b[39m: {\n    \"error\": {\n        \"message\": \"Unsupported get request. Workspace with ID \\\"DailyObj\\\" does not exist or cannot be loaded due to missing permissions.\",\n        \"status\": 404,\n        \"type\": \"GraphMethodException\",\n        \"hint\": \"You can see your available workspaces by issuing a GET request to /workspaces\"\n    }\n}"
     ]
    }
   ],
   "source": [
    "import os\n",
    "from dotenv import load_dotenv\n",
    "from roboflow import Roboflow\n",
    "\n",
    "# ตรวจสอบ working directory\n",
    "print(\"Current working directory:\", os.getcwd())\n",
    "# โหลดตัวแปรจากไฟล์ .env\n",
    "load_dotenv()\n",
    "\n",
    "# ดึง API key จากตัวแปรสภาพแวดล้อม\n",
    "api_key = os.getenv(\"ROBOFLOW_API_KEY\")\n",
    "\n",
    "# ใช้ API key กับ Roboflow\n",
    "rf = Roboflow(api_key=api_key)\n",
    "project = rf.project(\"stuff-in-my-room\")\n",
    "dataset = project.version(3).download(\"yolov11\")"
   ]
  },
  {
   "cell_type": "markdown",
   "metadata": {},
   "source": [
    "## Custom Training"
   ]
  },
  {
   "cell_type": "code",
   "execution_count": null,
   "metadata": {},
   "outputs": [],
   "source": [
    "%cd {HOME}\n",
    "\n",
    "!yolo task=detect mode=train model=yolo11s.pt data={dataset.location}/data.yaml epochs=50 imgsz=640 batchs="
   ]
  }
 ],
 "metadata": {
  "kernelspec": {
   "display_name": ".venv",
   "language": "python",
   "name": "python3"
  },
  "language_info": {
   "codemirror_mode": {
    "name": "ipython",
    "version": 3
   },
   "file_extension": ".py",
   "mimetype": "text/x-python",
   "name": "python",
   "nbconvert_exporter": "python",
   "pygments_lexer": "ipython3",
   "version": "3.13.2"
  }
 },
 "nbformat": 4,
 "nbformat_minor": 2
}
